{
 "cells": [
  {
   "cell_type": "code",
   "execution_count": 19,
   "id": "e60cd6bd-6257-44f3-82d9-8265266dae0f",
   "metadata": {},
   "outputs": [
    {
     "name": "stdout",
     "output_type": "stream",
     "text": [
      "!!!!!!!!!!!!!!!!\n",
      "ffmpeg version 3.4.8-0ubuntu0.2 Copyright (c) 2000-2020 the FFmpeg developers\n",
      "  built with gcc 7 (Ubuntu 7.5.0-3ubuntu1~18.04)\n",
      "  configuration: --prefix=/usr --extra-version=0ubuntu0.2 --toolchain=hardened --libdir=/usr/lib/x86_64-linux-gnu --incdir=/usr/include/x86_64-linux-gnu --enable-gpl --disable-stripping --enable-avresample --enable-avisynth --enable-gnutls --enable-ladspa --enable-libass --enable-libbluray --enable-libbs2b --enable-libcaca --enable-libcdio --enable-libflite --enable-libfontconfig --enable-libfreetype --enable-libfribidi --enable-libgme --enable-libgsm --enable-libmp3lame --enable-libmysofa --enable-libopenjpeg --enable-libopenmpt --enable-libopus --enable-libpulse --enable-librubberband --enable-librsvg --enable-libshine --enable-libsnappy --enable-libsoxr --enable-libspeex --enable-libssh --enable-libtheora --enable-libtwolame --enable-libvorbis --enable-libvpx --enable-libwavpack --enable-libwebp --enable-libx265 --enable-libxml2 --enable-libxvid --enable-libzmq --enable-libzvbi --enable-omx --enable-openal --enable-opengl --enable-sdl2 --enable-libdc1394 --enable-libdrm --enable-libiec61883 --enable-chromaprint --enable-frei0r --enable-libopencv --enable-libx264 --enable-shared\n",
      "  libavutil      55. 78.100 / 55. 78.100\n",
      "  libavcodec     57.107.100 / 57.107.100\n",
      "  libavformat    57. 83.100 / 57. 83.100\n",
      "  libavdevice    57. 10.100 / 57. 10.100\n",
      "  libavfilter     6.107.100 /  6.107.100\n",
      "  libavresample   3.  7.  0 /  3.  7.  0\n",
      "  libswscale      4.  8.100 /  4.  8.100\n",
      "  libswresample   2.  9.100 /  2.  9.100\n",
      "  libpostproc    54.  7.100 / 54.  7.100\n",
      "Input #0, mov,mp4,m4a,3gp,3g2,mj2, from '/FACIAL/examples/video/luoxiang_pose.mp4':\n",
      "  Metadata:\n",
      "    major_brand     : qt  \n",
      "    minor_version   : 0\n",
      "    compatible_brands: qt  \n",
      "    creation_time   : 2021-11-06T07:37:38.000000Z\n",
      "    com.apple.quicktime.artwork: {\"data\":{\"edittime\":112,\"infoStickerId\":\"\",\"musicId\":\"\",\"os\":\"mac\",\"product\":\"lv\",\"stickerId\":\"\",\"videoEffectId\":\"\",\"videoId\":\"0cc1699f-863b-4d36-8732-31d807f01d25\"},\"source_type\":\"douyin_beauty_me\"}\n",
      "  Duration: 00:01:09.63, start: -0.001451, bitrate: 10172 kb/s\n",
      "    Stream #0:0(und): Video: h264 (High) (avc1 / 0x31637661), yuv420p(tv, bt709), 1920x1080 [SAR 1:1 DAR 16:9], 10060 kb/s, 30 fps, 30 tbr, 600 tbn, 1200 tbc (default)\n",
      "    Metadata:\n",
      "      creation_time   : 2021-11-06T07:37:38.000000Z\n",
      "      handler_name    : Core Media Data Handler\n",
      "      encoder         : H.264\n",
      "    Stream #0:1(und): Audio: aac (LC) (mp4a / 0x6134706D), 44100 Hz, stereo, fltp, 108 kb/s (default)\n",
      "    Metadata:\n",
      "      creation_time   : 2021-11-06T07:37:38.000000Z\n",
      "      handler_name    : Core Media Data Handler\n",
      "Stream mapping:\n",
      "  Stream #0:1 -> #0:0 (aac (native) -> pcm_s16le (native))\n",
      "Press [q] to stop, [?] for help\n",
      "Output #0, wav, to '/FACIAL/examples/audio/luoxiang_pose.wav':\n",
      "  Metadata:\n",
      "    major_brand     : qt  \n",
      "    minor_version   : 0\n",
      "    compatible_brands: qt  \n",
      "    com.apple.quicktime.artwork: {\"data\":{\"edittime\":112,\"infoStickerId\":\"\",\"musicId\":\"\",\"os\":\"mac\",\"product\":\"lv\",\"stickerId\":\"\",\"videoEffectId\":\"\",\"videoId\":\"0cc1699f-863b-4d36-8732-31d807f01d25\"},\"source_type\":\"douyin_beauty_me\"}\n",
      "    ISFT            : Lavf57.83.100\n",
      "    Stream #0:0(und): Audio: pcm_s16le ([1][0][0][0] / 0x0001), 44100 Hz, mono, s16, 705 kb/s (default)\n",
      "    Metadata:\n",
      "      creation_time   : 2021-11-06T07:37:38.000000Z\n",
      "      handler_name    : Core Media Data Handler\n",
      "      encoder         : Lavc57.107.100 pcm_s16le\n",
      "size=    5998kB time=00:01:09.63 bitrate= 705.6kbits/s speed= 516x    \n",
      "video:0kB audio:5998kB subtitle:0kB other streams:0kB global headers:0kB muxing overhead: 0.001270%\n"
     ]
    }
   ],
   "source": [
    "##将所有视频分离出音频\n",
    "import os\n",
    "import wave\n",
    "import ffmpeg\n",
    "rootdir = '/FACIAL/examples/video'\n",
    "list = os.listdir(rootdir) #列出文件夹下所有的目录与文件\n",
    "for i in range(0,len(list)):\n",
    "       path = os.path.join(rootdir,list[i])\n",
    "       if os.path.isfile(path):\n",
    "            audio=path.replace(\"mp4\",\"wav\")\n",
    "\n",
    "            audio=audio.replace(\"video\",\"audio\")#change path\n",
    "            wav_audio=audio.replace(\"acc\",\"wav\")\n",
    "            raw_audio=audio.replace(\"aac\",\"raw\")\n",
    "            #https://blog.csdn.net/buki26/article/details/85005576?spm=1035.2023.3001.6557&utm_medium=distribute.pc_relevant_bbs_down.none-task-blog-2~default~OPENSEARCH~default-11.nonecase&depth_1-utm_source=distribute.pc_relevant_bbs_down.none-task-blog-2~default~OPENSEARCH~default-11.nonecase\n",
    "\n",
    "            print(\"!!!!!!!!!!!!!!!!\")\n",
    "            !ffmpeg -i {path} -ac 1 -f wav {audio} -y #get wav file\n",
    "            #!ffmpeg -i {audio} -ac 1 -y {audio} #改成单声道\n",
    "            '''\n",
    "            !ffmpeg -i  {audio} -f s16le -acodec pcm_s16le -ar 16000 -ac 1 {raw_audio} -y\n",
    "            pcmfile = open(raw_audio, 'rb')\n",
    "            \n",
    "            pcmdata = pcmfile.read()\n",
    "            wavfile = wave.open(wav_audio, 'wb')\n",
    "            wavfile.setframerate(16000)\n",
    "            wavfile.setsampwidth(2)    #16位采样即为2字节\n",
    "            wavfile.setnchannels(1)\n",
    "            wavfile.writeframes(pcmdata)\n",
    "            wavfile.close()\n",
    "            '''\n",
    "#            https://stackoverflow.com/questions/45914806/\n",
    "            #!rm {raw_audio}\n",
    "            #!rm {audio}\n",
    "\n"
   ]
  },
  {
   "cell_type": "code",
   "execution_count": 15,
   "id": "3980ba97-70d8-4d8d-9ce5-e56008bcc2f5",
   "metadata": {},
   "outputs": [
    {
     "name": "stdout",
     "output_type": "stream",
     "text": [
      "(731, 16, 29)\n"
     ]
    }
   ],
   "source": [
    "import pickle as p \n",
    "rootdir = '/FACIAL/examples/audio_preprocessed/'\n",
    "shoplistfile = rootdir+'obama2.pkl'   #保存文件数据所在文件的文件名\n",
    "f = open(shoplistfile, 'rb')\n",
    "storedlist = p.load(f)#重新加载数据到列表中\n",
    "print(storedlist.shape)"
   ]
  },
  {
   "cell_type": "code",
   "execution_count": 20,
   "id": "7bf287b6-191f-4653-a241-10b8b4dea31f",
   "metadata": {},
   "outputs": [
    {
     "name": "stdout",
     "output_type": "stream",
     "text": [
      "(2089, 16, 29)\n"
     ]
    }
   ],
   "source": [
    "import pickle as p \n",
    "rootdir = '/FACIAL/examples/audio_preprocessed/'\n",
    "shoplistfile = rootdir+'luoxiang_pose.pkl'   #保存文件数据所在文件的文件名\n",
    "f = open(shoplistfile, 'rb')\n",
    "storedlist = p.load(f)#重新加载数据到列表中\n",
    "print(storedlist.shape)"
   ]
  },
  {
   "cell_type": "code",
   "execution_count": null,
   "id": "a9945588-5845-4cdf-9892-8dc63e5bd2f6",
   "metadata": {},
   "outputs": [],
   "source": []
  }
 ],
 "metadata": {
  "kernelspec": {
   "display_name": "face",
   "language": "python",
   "name": "face"
  },
  "language_info": {
   "codemirror_mode": {
    "name": "ipython",
    "version": 3
   },
   "file_extension": ".py",
   "mimetype": "text/x-python",
   "name": "python",
   "nbconvert_exporter": "python",
   "pygments_lexer": "ipython3",
   "version": "3.6.13"
  }
 },
 "nbformat": 4,
 "nbformat_minor": 5
}
